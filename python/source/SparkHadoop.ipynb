{
 "cells": [
  {
   "cell_type": "code",
   "execution_count": 4,
   "id": "b26cbb28-096d-44de-b615-e88d6c122c8c",
   "metadata": {
    "tags": []
   },
   "outputs": [],
   "source": [
    "from pyspark.sql.types import *\n",
    "from pyspark.sql.window import Window\n",
    "\n",
    "import pyspark.sql.functions as F\n",
    "from pyspark.sql.functions import udf, col"
   ]
  },
  {
   "cell_type": "code",
   "execution_count": 5,
   "id": "ebc86663-5c33-407f-8608-12bc730f159a",
   "metadata": {
    "tags": []
   },
   "outputs": [],
   "source": [
    "from pyspark.sql import SparkSession\n",
    "\n",
    "spark = SparkSession.builder.getOrCreate() "
   ]
  },
  {
   "cell_type": "code",
   "execution_count": 6,
   "id": "9814d187-ba63-4c1c-8c58-5c543dc848ce",
   "metadata": {
    "tags": []
   },
   "outputs": [
    {
     "name": "stderr",
     "output_type": "stream",
     "text": [
      "                                                                                \r"
     ]
    },
    {
     "name": "stdout",
     "output_type": "stream",
     "text": [
      "+--------------------+\n",
      "|               value|\n",
      "+--------------------+\n",
      "|Caguas,XXXXXXXXX,...|\n",
      "|Moreno Valley,XXX...|\n",
      "|Metairie,XXXXXXXX...|\n",
      "|Caguas,XXXXXXXXX,...|\n",
      "|Clementon,XXXXXXX...|\n",
      "|Caguas,XXXXXXXXX,...|\n",
      "|Los Angeles,XXXXX...|\n",
      "|Tampa,XXXXXXXXX,M...|\n",
      "|Caguas,XXXXXXXXX,...|\n",
      "|Spring Valley,XXX...|\n",
      "|Chicago,XXXXXXXXX...|\n",
      "|Canoga Park,XXXXX...|\n",
      "|Caguas,XXXXXXXXX,...|\n",
      "|Victorville,XXXXX...|\n",
      "|Chicago,XXXXXXXXX...|\n",
      "|Caguas,XXXXXXXXX,...|\n",
      "|Salina,XXXXXXXXX,...|\n",
      "|Caguas,XXXXXXXXX,...|\n",
      "|Aurora,XXXXXXXXX,...|\n",
      "|Caguas,XXXXXXXXX,...|\n",
      "+--------------------+\n",
      "only showing top 20 rows\n",
      "\n"
     ]
    }
   ],
   "source": [
    "spark.read.text(\"hdfs://namenode:8020/user/datapath/datasets/customers/\").show()"
   ]
  },
  {
   "cell_type": "code",
   "execution_count": 7,
   "id": "b6638358-c289-4c4a-bc9a-89d5d70c2b5f",
   "metadata": {},
   "outputs": [],
   "source": [
    "CUSTOMERS_DATA =   'hdfs://namenode:8020/user/datapath/datasets/customers'\n",
    "DEPARTMENTS_DATA = 'hdfs://namenode:8020/user/datapath/datasets/departments'\n",
    "CATEGORIES_DATA =  'hdfs://namenode:8020/user/datapath/datasets/categories'\n",
    "PRODUCTS_DATA =    'hdfs://namenode:8020/user/datapath/datasets/products'\n",
    "ORDERS_DATA =      'hdfs://namenode:8020/user/datapath/datasets/orders'\n",
    "ORDER_ITEMS_DATA = 'hdfs://namenode:8020/user/datapath/datasets/order_items'"
   ]
  },
  {
   "cell_type": "code",
   "execution_count": 8,
   "id": "656b70dc-790e-4308-81d0-334df810c022",
   "metadata": {
    "tags": []
   },
   "outputs": [],
   "source": [
    "# define the schema, corresponding to a line in the csv data file for Customer\n",
    "customers_schema = StructType([\n",
    "    StructField('customer_id',       IntegerType(), nullable=True),\n",
    "    StructField('customer_fname',    StringType(), nullable=True),\n",
    "    StructField('customer_lname',    StringType(), nullable=True),\n",
    "    StructField('customer_email',    StringType(), nullable=True),\n",
    "    StructField('customer_password', StringType(), nullable=True),\n",
    "    StructField('customer_street',   StringType(), nullable=True),\n",
    "    StructField('customer_city',     StringType(), nullable=True),\n",
    "    StructField('customer_state',    StringType(), nullable=True),\n",
    "    StructField('customer_zipcode',  StringType(), nullable=True)])"
   ]
  },
  {
   "cell_type": "code",
   "execution_count": 9,
   "id": "997703cd-7967-46d8-afe4-ec3305c694c0",
   "metadata": {
    "tags": []
   },
   "outputs": [],
   "source": [
    "departments_schema = StructType([\n",
    "    StructField('department_id',   IntegerType(), nullable=True),\n",
    "    StructField('department_name', StringType(), nullable=True)])"
   ]
  },
  {
   "cell_type": "code",
   "execution_count": 10,
   "id": "0abe992f-683b-4291-8f3f-d8ed420add7f",
   "metadata": {
    "tags": []
   },
   "outputs": [],
   "source": [
    "categories_schema = StructType([\n",
    "    StructField('category_id',            IntegerType(), nullable=True),\n",
    "    StructField('category_department_id', IntegerType(), nullable=True),\n",
    "    StructField('category_name',          StringType(), nullable=True)])"
   ]
  },
  {
   "cell_type": "code",
   "execution_count": 11,
   "id": "34303581-f94a-4bdd-b4c9-26b9aef0c6de",
   "metadata": {
    "tags": []
   },
   "outputs": [],
   "source": [
    "products_schema = StructType([\n",
    "    StructField('product_id',          IntegerType(), nullable=True),\n",
    "    StructField('product_category_id', IntegerType(), nullable=True),\n",
    "    StructField('product_name',        StringType(), nullable=True),\n",
    "    StructField('product_description', StringType(), nullable=True),\n",
    "    StructField('product_price',       FloatType(), nullable=True),\n",
    "    StructField('product_image',       StringType(), nullable=True)])"
   ]
  },
  {
   "cell_type": "code",
   "execution_count": 12,
   "id": "1256ed06-5dbc-4cd8-a8c5-4b878fb115b9",
   "metadata": {
    "tags": []
   },
   "outputs": [],
   "source": [
    "orders_schema = StructType([\n",
    "    StructField('order_id',          IntegerType(), nullable=True),\n",
    "    StructField('order_date',        StringType(), nullable=True),\n",
    "    StructField('order_customer_id', IntegerType(), nullable=True),\n",
    "    StructField('order_status',      StringType(), nullable=True)])"
   ]
  },
  {
   "cell_type": "code",
   "execution_count": 13,
   "id": "ea932c22-9046-450a-9cc6-144d0d57bbe4",
   "metadata": {
    "tags": []
   },
   "outputs": [],
   "source": [
    "order_items_schema = StructType([\n",
    "    StructField('order_item_id',            IntegerType(), nullable=True),\n",
    "    StructField('order_item_order_id',      IntegerType(), nullable=True),\n",
    "    StructField('order_item_product_id',    IntegerType(), nullable=True),\n",
    "    StructField('order_item_quantity',      IntegerType(), nullable=True),\n",
    "    StructField('order_item_subtotal',      FloatType(), nullable=True),\n",
    "    StructField('order_item_product_price', FloatType(), nullable=True)])"
   ]
  },
  {
   "cell_type": "markdown",
   "id": "3f0025e9-fb42-4f4e-89a7-ae7488e0c5db",
   "metadata": {},
   "source": [
    "### Cargamos los datos"
   ]
  },
  {
   "cell_type": "code",
   "execution_count": 17,
   "id": "7e9195dd-abb2-4d88-b81c-e82884f0a365",
   "metadata": {
    "tags": []
   },
   "outputs": [
    {
     "data": {
      "text/plain": [
       "DataFrame[order_item_id: int, order_item_order_id: int, order_item_product_id: int, order_item_quantity: int, order_item_subtotal: float, order_item_product_price: float]"
      ]
     },
     "execution_count": 17,
     "metadata": {},
     "output_type": "execute_result"
    }
   ],
   "source": [
    "\n",
    "customers_df = spark.read.csv(path=CUSTOMERS_DATA, schema=customers_schema)\n",
    "customers_df.cache()\n",
    "\n",
    "departments_df = spark.read.csv(path=DEPARTMENTS_DATA, schema=departments_schema)\n",
    "departments_df.cache()\n",
    "\n",
    "categories_df = spark.read.csv(path=CATEGORIES_DATA, schema=categories_schema)\n",
    "categories_df.cache()\n",
    "\n",
    "products_df = spark.read.csv(path=PRODUCTS_DATA, schema=products_schema)\n",
    "products_df.cache()\n",
    "\n",
    "orders_df = spark.read.csv(path=ORDERS_DATA, schema=orders_schema)\n",
    "orders_df.cache()\n",
    "\n",
    "order_items_df = spark.read.csv(path=ORDER_ITEMS_DATA, schema=order_items_schema)\n",
    "order_items_df.cache()"
   ]
  },
  {
   "cell_type": "code",
   "execution_count": 18,
   "id": "d1342588-7184-40b5-9a2f-0095a14a1631",
   "metadata": {
    "tags": []
   },
   "outputs": [
    {
     "name": "stderr",
     "output_type": "stream",
     "text": [
      "[Stage 4:>                                                          (0 + 2) / 2]\r"
     ]
    },
    {
     "name": "stdout",
     "output_type": "stream",
     "text": [
      "+-----------+--------------+--------------+--------------+-----------------+---------------+-------------+--------------------+----------------+\n",
      "|customer_id|customer_fname|customer_lname|customer_email|customer_password|customer_street|customer_city|      customer_state|customer_zipcode|\n",
      "+-----------+--------------+--------------+--------------+-----------------+---------------+-------------+--------------------+----------------+\n",
      "|       NULL|     XXXXXXXXX|         Donna|          9327|            Smith|      XXXXXXXXX|           PR|4114 Clear Nectar...|           00725|\n",
      "|       NULL|     XXXXXXXXX|          Mary|          9328|            Perez|      XXXXXXXXX|           CA|  376 Golden Orchard|           92553|\n",
      "|       NULL|     XXXXXXXXX|        Eugene|          9329|           Powell|      XXXXXXXXX|           LA|   2161 Burning Maze|           70003|\n",
      "|       NULL|     XXXXXXXXX|          Mary|          9330|           Conley|      XXXXXXXXX|           PR| 3046 Broad Sky Dale|           00725|\n",
      "|       NULL|     XXXXXXXXX|         Donna|          9331|            Smith|      XXXXXXXXX|           NJ|941 Thunder Branc...|           08021|\n",
      "|       NULL|     XXXXXXXXX|          Mary|          9332|           Jordan|      XXXXXXXXX|           PR|   1551 Quaking Bend|           00725|\n",
      "|       NULL|     XXXXXXXXX|        Angela|          9333|            Mills|      XXXXXXXXX|           CA|     2580 Rustic Bay|           90026|\n",
      "|       NULL|     XXXXXXXXX|          Mary|          9334|         Johnston|      XXXXXXXXX|           FL|   4145 Jagged Downs|           33624|\n",
      "|       NULL|     XXXXXXXXX|        Joseph|          9335|            Smith|      XXXXXXXXX|           PR|    7861 Honey Acres|           00725|\n",
      "|       NULL|     XXXXXXXXX|        Janice|          9336|           Guzman|      XXXXXXXXX|           CA|   8143 Dusty Island|           91977|\n",
      "|       NULL|     XXXXXXXXX|          Mary|          9337|            Smith|      XXXXXXXXX|           IL|    5687 Lazy Parade|           60643|\n",
      "|       NULL|     XXXXXXXXX|         James|          9338|            Davis|      XXXXXXXXX|           CA|4715 Harvest Cree...|           91304|\n",
      "|       NULL|     XXXXXXXXX|           Ann|          9339|            Moyer|      XXXXXXXXX|           PR|4417 Hazy Creek Pike|           00725|\n",
      "|       NULL|     XXXXXXXXX|          Mary|          9340|            Smith|      XXXXXXXXX|           CA|7773 Merry Autoroute|           92392|\n",
      "|       NULL|     XXXXXXXXX|         Karen|          9341|          Collins|      XXXXXXXXX|           IL|    6163 Lazy Pointe|           60613|\n",
      "|       NULL|     XXXXXXXXX|        Teresa|          9342|            Grant|      XXXXXXXXX|           PR|3684 Old River Cr...|           00725|\n",
      "|       NULL|     XXXXXXXXX|          Mary|          9343|            Knapp|      XXXXXXXXX|           KS|2394 Gentle Treas...|           67401|\n",
      "|       NULL|     XXXXXXXXX|         Kelly|          9344|            Smith|      XXXXXXXXX|           PR|8355 Lazy Anchor ...|           00725|\n",
      "|       NULL|     XXXXXXXXX|          Mary|          9345|           Branch|      XXXXXXXXX|           CO|  4767 Wishing Round|           80013|\n",
      "|       NULL|     XXXXXXXXX|          Jack|          9346|            Smith|      XXXXXXXXX|           PR|4208 Jagged Apple...|           00725|\n",
      "+-----------+--------------+--------------+--------------+-----------------+---------------+-------------+--------------------+----------------+\n",
      "only showing top 20 rows\n",
      "\n"
     ]
    },
    {
     "name": "stderr",
     "output_type": "stream",
     "text": [
      "                                                                                \r"
     ]
    }
   ],
   "source": [
    "customers_df.show()"
   ]
  },
  {
   "cell_type": "markdown",
   "id": "910aed12-2e7d-4914-b4dc-6ee2f7154f6f",
   "metadata": {},
   "source": [
    "### Creamos vistas temporales para trabajar con spark.sql"
   ]
  },
  {
   "cell_type": "code",
   "execution_count": 19,
   "id": "0e628052-2e9a-4baa-b9e0-c78442b516df",
   "metadata": {
    "tags": []
   },
   "outputs": [
    {
     "name": "stdout",
     "output_type": "stream",
     "text": [
      "+-----------+--------------+--------------+--------------+-----------------+---------------+-------------+--------------------+----------------+\n",
      "|customer_id|customer_fname|customer_lname|customer_email|customer_password|customer_street|customer_city|      customer_state|customer_zipcode|\n",
      "+-----------+--------------+--------------+--------------+-----------------+---------------+-------------+--------------------+----------------+\n",
      "|       NULL|     XXXXXXXXX|         Donna|          9327|            Smith|      XXXXXXXXX|           PR|4114 Clear Nectar...|           00725|\n",
      "|       NULL|     XXXXXXXXX|          Mary|          9328|            Perez|      XXXXXXXXX|           CA|  376 Golden Orchard|           92553|\n",
      "|       NULL|     XXXXXXXXX|        Eugene|          9329|           Powell|      XXXXXXXXX|           LA|   2161 Burning Maze|           70003|\n",
      "|       NULL|     XXXXXXXXX|          Mary|          9330|           Conley|      XXXXXXXXX|           PR| 3046 Broad Sky Dale|           00725|\n",
      "|       NULL|     XXXXXXXXX|         Donna|          9331|            Smith|      XXXXXXXXX|           NJ|941 Thunder Branc...|           08021|\n",
      "+-----------+--------------+--------------+--------------+-----------------+---------------+-------------+--------------------+----------------+\n",
      "only showing top 5 rows\n",
      "\n"
     ]
    }
   ],
   "source": [
    "customers_df.createOrReplaceTempView(\"customers\")\n",
    "customers_df.show(5)"
   ]
  },
  {
   "cell_type": "code",
   "execution_count": 20,
   "id": "0a033bbf-d99b-4256-bd14-4feff182975d",
   "metadata": {
    "tags": []
   },
   "outputs": [
    {
     "name": "stdout",
     "output_type": "stream",
     "text": [
      "+-------------+---------------+\n",
      "|department_id|department_name|\n",
      "+-------------+---------------+\n",
      "|            6|       Outdoors|\n",
      "|            7|       Fan Shop|\n",
      "|            2|        Fitness|\n",
      "|            3|       Footwear|\n",
      "|            4|        Apparel|\n",
      "+-------------+---------------+\n",
      "only showing top 5 rows\n",
      "\n"
     ]
    }
   ],
   "source": [
    "departments_df.createOrReplaceTempView(\"departments\")\n",
    "departments_df.show(5)"
   ]
  },
  {
   "cell_type": "code",
   "execution_count": 21,
   "id": "2143259b-5dfe-44e0-accd-9a24dd410335",
   "metadata": {
    "tags": []
   },
   "outputs": [
    {
     "name": "stderr",
     "output_type": "stream",
     "text": [
      "[Stage 9:>                                                          (0 + 2) / 2]\r"
     ]
    },
    {
     "name": "stdout",
     "output_type": "stream",
     "text": [
      "+--------+--------------------+-----------------+---------------+\n",
      "|order_id|          order_date|order_customer_id|   order_status|\n",
      "+--------+--------------------+-----------------+---------------+\n",
      "|    2373|2013-11-09 00:00:...|            17222|       COMPLETE|\n",
      "|   12091|2013-11-09 00:00:...|            17223|PENDING_PAYMENT|\n",
      "|     871|2013-11-09 00:00:...|            17224|        PENDING|\n",
      "|    6381|2013-11-09 00:00:...|            17225|PENDING_PAYMENT|\n",
      "|    4456|2013-11-09 00:00:...|            17226|        PENDING|\n",
      "+--------+--------------------+-----------------+---------------+\n",
      "only showing top 5 rows\n",
      "\n"
     ]
    },
    {
     "name": "stderr",
     "output_type": "stream",
     "text": [
      "                                                                                \r"
     ]
    }
   ],
   "source": [
    "orders_df.createOrReplaceTempView(\"orders\")\n",
    "orders_df.show(5)"
   ]
  },
  {
   "cell_type": "code",
   "execution_count": 22,
   "id": "48ed0b88-5c30-4966-b974-e81db295774b",
   "metadata": {
    "tags": []
   },
   "outputs": [
    {
     "name": "stderr",
     "output_type": "stream",
     "text": [
      "[Stage 11:=============================>                            (1 + 1) / 2]\r"
     ]
    },
    {
     "name": "stdout",
     "output_type": "stream",
     "text": [
      "+-------------+-------------------+---------------------+-------------------+-------------------+------------------------+\n",
      "|order_item_id|order_item_order_id|order_item_product_id|order_item_quantity|order_item_subtotal|order_item_product_price|\n",
      "+-------------+-------------------+---------------------+-------------------+-------------------+------------------------+\n",
      "|       129149|              51686|                  403|               NULL|                1.0|                  129.99|\n",
      "|       129150|              51687|                  403|               NULL|                1.0|                  129.99|\n",
      "|       129151|              51687|                  403|               NULL|                1.0|                  129.99|\n",
      "|       129152|              51687|                 1014|               NULL|                5.0|                   249.9|\n",
      "|       129153|              51687|                  191|               NULL|                4.0|                  399.96|\n",
      "+-------------+-------------------+---------------------+-------------------+-------------------+------------------------+\n",
      "only showing top 5 rows\n",
      "\n"
     ]
    },
    {
     "name": "stderr",
     "output_type": "stream",
     "text": [
      "                                                                                \r"
     ]
    }
   ],
   "source": [
    "order_items_df.createOrReplaceTempView(\"order_items\")\n",
    "order_items_df.show(5)"
   ]
  },
  {
   "cell_type": "code",
   "execution_count": 23,
   "id": "c3b62114-252d-4755-8a30-650187a442c9",
   "metadata": {
    "tags": []
   },
   "outputs": [
    {
     "name": "stdout",
     "output_type": "stream",
     "text": [
      "+----------+-------------------+------------+--------------------+-------------+-------------+\n",
      "|product_id|product_category_id|product_name| product_description|product_price|product_image|\n",
      "+----------+-------------------+------------+--------------------+-------------+-------------+\n",
      "|        45|               NULL|        1009|http://images.acm...|         NULL|       599.99|\n",
      "|        46|               NULL|        1010|http://images.acm...|         NULL|        19.98|\n",
      "|        46|               NULL|        1011|http://images.acm...|         NULL|       499.99|\n",
      "|        46|               NULL|        1012|http://images.acm...|         NULL|       299.99|\n",
      "|        46|               NULL|        1013|http://images.acm...|         NULL|       349.99|\n",
      "+----------+-------------------+------------+--------------------+-------------+-------------+\n",
      "only showing top 5 rows\n",
      "\n"
     ]
    }
   ],
   "source": [
    "products_df.createOrReplaceTempView(\"products\")\n",
    "products_df.show(5)"
   ]
  },
  {
   "cell_type": "code",
   "execution_count": 24,
   "id": "3dfd1eae-d128-4e50-a6ad-9e7c5cac2cae",
   "metadata": {
    "tags": []
   },
   "outputs": [
    {
     "name": "stdout",
     "output_type": "stream",
     "text": [
      "+-----------+----------------------+-------------------+\n",
      "|category_id|category_department_id|      category_name|\n",
      "+-----------+----------------------+-------------------+\n",
      "|          2|                     1|           Football|\n",
      "|          2|                     2|             Soccer|\n",
      "|          2|                     3|Baseball & Softball|\n",
      "|          2|                     4|         Basketball|\n",
      "|          2|                     5|           Lacrosse|\n",
      "+-----------+----------------------+-------------------+\n",
      "only showing top 5 rows\n",
      "\n"
     ]
    }
   ],
   "source": [
    "categories_df.createOrReplaceTempView(\"categories\")\n",
    "categories_df.show(5)"
   ]
  },
  {
   "cell_type": "code",
   "execution_count": 26,
   "id": "f4a6c157-8b81-4eba-8b9a-d335cfab0ef3",
   "metadata": {},
   "outputs": [
    {
     "name": "stdout",
     "output_type": "stream",
     "text": [
      "+-----------+----------------------+-------------------+\n",
      "|category_id|category_department_id|      category_name|\n",
      "+-----------+----------------------+-------------------+\n",
      "|          2|                     1|           Football|\n",
      "|          2|                     2|             Soccer|\n",
      "|          2|                     3|Baseball & Softball|\n",
      "|          2|                     4|         Basketball|\n",
      "|          2|                     5|           Lacrosse|\n",
      "|          2|                     6|   Tennis & Racquet|\n",
      "|          2|                     7|             Hockey|\n",
      "|          2|                     8|        More Sports|\n",
      "|          3|                     9|   Cardio Equipment|\n",
      "|          3|                    10|  Strength Training|\n",
      "|          3|                    11|Fitness Accessories|\n",
      "|          3|                    12|       Boxing & MMA|\n",
      "|          3|                    13|        Electronics|\n",
      "|          3|                    14|     Yoga & Pilates|\n",
      "|          3|                    15|  Training by Sport|\n",
      "|          6|                    30|   Men's Golf Clubs|\n",
      "|          6|                    31| Women's Golf Clubs|\n",
      "|          6|                    32|       Golf Apparel|\n",
      "|          6|                    33|         Golf Shoes|\n",
      "|          6|                    34|  Golf Bags & Carts|\n",
      "+-----------+----------------------+-------------------+\n",
      "only showing top 20 rows\n",
      "\n"
     ]
    }
   ],
   "source": [
    "spark.sql(\"select * from categories\").show()"
   ]
  },
  {
   "cell_type": "code",
   "execution_count": null,
   "id": "b5b1e325-3334-432a-a85f-ced387da42af",
   "metadata": {},
   "outputs": [],
   "source": []
  }
 ],
 "metadata": {
  "kernelspec": {
   "display_name": "Python 3 (ipykernel)",
   "language": "python",
   "name": "python3"
  },
  "language_info": {
   "codemirror_mode": {
    "name": "ipython",
    "version": 3
   },
   "file_extension": ".py",
   "mimetype": "text/x-python",
   "name": "python",
   "nbconvert_exporter": "python",
   "pygments_lexer": "ipython3",
   "version": "3.9.19"
  }
 },
 "nbformat": 4,
 "nbformat_minor": 5
}
